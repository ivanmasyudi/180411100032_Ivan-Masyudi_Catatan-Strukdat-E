{
 "cells": [
  {
   "cell_type": "code",
   "execution_count": 3,
   "metadata": {},
   "outputs": [
    {
     "name": "stdout",
     "output_type": "stream",
     "text": [
      "pencarian ditemukan\n",
      "berada di index ke  6\n",
      "iterasi yang terjadi yaitu sebanyak  7 kali\n"
     ]
    }
   ],
   "source": [
    "cari = 8\n",
    "list = [15,18,2,19,18,0,8,14,19,14]\n",
    "posisi = 0\n",
    "akhir = len(list) - 1\n",
    "iterasi = 0\n",
    "found = False\n",
    "while posisi <= akhir and not found:\n",
    "    iterasi += 1\n",
    "    if list[posisi] == cari:\n",
    "        found = True\n",
    "    else:\n",
    "        posisi += 1\n",
    "if found:\n",
    "    print(\"pencarian ditemukan\")\n",
    "    print(\"berada di index ke \",posisi)\n",
    "else:\n",
    "    print(\"pencarian tidak ditemukan\")\n",
    "print(\"iterasi yang terjadi yaitu sebanyak \",iterasi ,\"kali\")"
   ]
  },
  {
   "cell_type": "code",
   "execution_count": 31,
   "metadata": {},
   "outputs": [
    {
     "name": "stdout",
     "output_type": "stream",
     "text": [
      "pencarian ditemukan\n",
      "berada di index ke  2\n",
      "iterasi yang terjadi yaitu sebanyak  3 kali\n"
     ]
    }
   ],
   "source": [
    "cari = 8\n",
    "list = [0,2,8,14,14,15,18,18,19,19]\n",
    "posisi = 0\n",
    "akhir = len(list) - 1\n",
    "iterasi = 0\n",
    "found = False\n",
    "while posisi <= akhir and not found:\n",
    "    iterasi += 1\n",
    "    if list[posisi] == cari:\n",
    "        found = True\n",
    "    else:\n",
    "        posisi += 1\n",
    "if found:\n",
    "    print(\"pencarian ditemukan\")\n",
    "    print(\"berada di index ke \",posisi)\n",
    "else:\n",
    "    print(\"tidak ditemukan\")\n",
    "print(\"iterasi yang terjadi yaitu sebanyak \",iterasi ,\"kali\")"
   ]
  },
  {
   "cell_type": "code",
   "execution_count": 23,
   "metadata": {},
   "outputs": [
    {
     "name": "stdout",
     "output_type": "stream",
     "text": [
      "tidak ditemukan\n",
      "iterasi yang terjadi yaitu sebanyak  3 kali\n"
     ]
    }
   ],
   "source": [
    "cari = 7\n",
    "list = [0,2,8,14,14,15,18,18,19,19]\n",
    "posisi = 0\n",
    "akhir = len(list) - 1\n",
    "iterasi = 0\n",
    "found = False\n",
    "while posisi <= akhir and not found:\n",
    "    iterasi += 1\n",
    "    if list[posisi] == cari:\n",
    "        found = True\n",
    "    else:\n",
    "        if list[posisi] > cari:\n",
    "            break\n",
    "        posisi += 1\n",
    "if found:\n",
    "    print(\"pencarian ditemukan\")\n",
    "    print(\"berada di index ke \",posisi)\n",
    "else:\n",
    "    print(\"tidak ditemukan\")\n",
    "print(\"iterasi yang terjadi yaitu sebanyak \",iterasi ,\"kali\")"
   ]
  },
  {
   "cell_type": "code",
   "execution_count": null,
   "metadata": {},
   "outputs": [],
   "source": []
  }
 ],
 "metadata": {
  "kernelspec": {
   "display_name": "Python 3",
   "language": "python",
   "name": "python3"
  },
  "language_info": {
   "codemirror_mode": {
    "name": "ipython",
    "version": 3
   },
   "file_extension": ".py",
   "mimetype": "text/x-python",
   "name": "python",
   "nbconvert_exporter": "python",
   "pygments_lexer": "ipython3",
   "version": "3.6.5"
  }
 },
 "nbformat": 4,
 "nbformat_minor": 2
}
